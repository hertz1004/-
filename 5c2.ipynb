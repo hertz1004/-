{
 "cells": [
  {
   "cell_type": "code",
   "execution_count": 3,
   "metadata": {},
   "outputs": [
    {
     "name": "stdout",
     "output_type": "stream",
     "text": [
      "[[ 69 100 252 252]]\n"
     ]
    },
    {
     "data": {
      "text/plain": [
       "True"
      ]
     },
     "execution_count": 3,
     "metadata": {},
     "output_type": "execute_result"
    }
   ],
   "source": [
    "import cv2\n",
    "# 读取图片\n",
    "import numpy as np\n",
    "import cv2\n",
    "\n",
    "'''****************BEGIN****************'''\n",
    "# 读取图片\n",
    "image_path = r\"C:\\Users\\97567\\Pictures\\tpic\\cf65d144ced67681f85ae1821fb21173.jpg\"\n",
    "img = cv2.imread(image_path)\n",
    "# 转换为灰度图片\n",
    "gray = cv2.cvtColor(img, cv2.COLOR_BGR2GRAY)\n",
    "# 人脸检测器\n",
    "modle_path = r'C:\\Users\\97567\\Pictures\\tpic\\haarcascade_frontalface_default.xml'\n",
    "face_cascade =cv2.CascadeClassifier(modle_path)\n",
    "# 识别人脸\n",
    "faces = face_cascade.detectMultiScale(gray, 1.3, 5)\n",
    "'''**************** END ****************'''\n",
    "\n",
    "print(faces)\n",
    "\n",
    "    \n",
    "\n",
    "# 绘制人脸区域\n",
    "for (x,y,w,h) in faces:\n",
    "    cv2.rectangle(img,(x,y),(x+w,y+h),(0,0,255),2)\n",
    "    #灰度图片的脸部区域\n",
    "    face_grays = gray[y:y+h, x:x+w]\n",
    "    #原图像的脸部区域\n",
    "    face_areas = img[y:y+h, x:x+w]\n",
    "    eye_cascade = cv2.CascadeClassifier(r\"C:\\Users\\97567\\Pictures\\tpic\\haarcascade_eye.xml\")\n",
    "    # 识别人眼\n",
    "    eyes = eye_cascade.detectMultiScale(gray)\n",
    "    for (ex,ey,ew,eh) in eyes:\n",
    "        # 绘制人眼\n",
    "        cv2.rectangle(img,(ex,ey),(ex+ew,ey+eh),(0,255,0),2)\n",
    "save_image_path = r\"C:\\Users\\97567\\Pictures\\tpic\\girl-drawing.jpg\"\n",
    "cv2.imwrite(save_image_path,img)"
   ]
  }
 ],
 "metadata": {
  "kernelspec": {
   "display_name": "base",
   "language": "python",
   "name": "python3"
  },
  "language_info": {
   "codemirror_mode": {
    "name": "ipython",
    "version": 3
   },
   "file_extension": ".py",
   "mimetype": "text/x-python",
   "name": "python",
   "nbconvert_exporter": "python",
   "pygments_lexer": "ipython3",
   "version": "3.11.7"
  }
 },
 "nbformat": 4,
 "nbformat_minor": 2
}
