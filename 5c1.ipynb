{
 "cells": [
  {
   "cell_type": "code",
   "execution_count": 6,
   "metadata": {},
   "outputs": [
    {
     "ename": "KeyboardInterrupt",
     "evalue": "",
     "output_type": "error",
     "traceback": [
      "\u001b[1;31m---------------------------------------------------------------------------\u001b[0m",
      "\u001b[1;31mKeyboardInterrupt\u001b[0m                         Traceback (most recent call last)",
      "Cell \u001b[1;32mIn[6], line 52\u001b[0m\n\u001b[0;32m     49\u001b[0m onTrackbarChange(initThresh)\n\u001b[0;32m     51\u001b[0m \u001b[38;5;28;01mwhile\u001b[39;00m \u001b[38;5;28;01mTrue\u001b[39;00m:\n\u001b[1;32m---> 52\u001b[0m \tkey \u001b[38;5;241m=\u001b[39m cv2\u001b[38;5;241m.\u001b[39mwaitKey(\u001b[38;5;241m1\u001b[39m)\n\u001b[0;32m     53\u001b[0m \t\u001b[38;5;28;01mif\u001b[39;00m key \u001b[38;5;241m==\u001b[39m \u001b[38;5;241m27\u001b[39m:\n\u001b[0;32m     54\u001b[0m \t\t\u001b[38;5;28;01mbreak\u001b[39;00m\n",
      "\u001b[1;31mKeyboardInterrupt\u001b[0m: "
     ]
    }
   ],
   "source": [
    "import cv2\n",
    "import numpy as np\n",
    "\n",
    "def onTrackbarChange(max_slider):\n",
    "\tglobal img\n",
    "\tglobal dst\n",
    "\tglobal gray\n",
    "\n",
    "\tdst = np.copy(img)\n",
    "\n",
    "\tth1 = max_slider \n",
    "\tth2 = th1 * 0.4\n",
    "\tedges = cv2.Canny(img, th1, th2)\n",
    "\t#edges =cv2.imread(\"C:\\Users\\97567\\Pictures\\tpic\\thresholded_edges.png\")\n",
    "\t# Apply probabilistic hough line transform\n",
    "\tlines = cv2.HoughLinesP(edges, 2, np.pi/180.0, 50, minLineLength=10, maxLineGap=100)\n",
    "\n",
    "\t# Draw lines on the detected points\n",
    "\tfor line in lines:\n",
    "\t\tx1, y1, x2, y2 = line[0]\n",
    "\t\tcv2.line(dst, (x1, y1), (x2, y2), (0,0,255), 1)\n",
    "\n",
    "\tcv2.imshow(\"Result Image\", dst)\t\n",
    "\tcv2.imshow(\"Edges\",edges)\n",
    "\n",
    "if __name__ == \"__main__\":\n",
    "\t\n",
    "\t# Read image\n",
    "\timg = cv2.imread(r\"C:\\Users\\97567\\Pictures\\tpic\\thresholded_edges.png\")\n",
    "\t\n",
    "\t# Create a copy for later usage\n",
    "\tdst = np.copy(img)\n",
    "\n",
    "\t# Convert image to gray\n",
    "\tgray = cv2.cvtColor(img, cv2.COLOR_BGR2GRAY)\n",
    "\n",
    "\t# Create display windows\n",
    "\tcv2.namedWindow(\"Edges\")\n",
    "\tcv2.namedWindow(\"Result Image\")\n",
    "\t  \n",
    "\n",
    "\t# Initialize threshold value\n",
    "\tinitThresh = 500\n",
    "\n",
    "\t# Maximum threshold value\n",
    "\tmaxThresh = 1000\n",
    "\n",
    "\tcv2.createTrackbar(\"threshold\", \"Result Image\", initThresh, maxThresh, onTrackbarChange)\n",
    "\tonTrackbarChange(initThresh)\n",
    "\n",
    "\twhile True:\n",
    "\t\tkey = cv2.waitKey(1)\n",
    "\t\tif key == 27:\n",
    "\t\t\tbreak\n",
    "\n",
    "\tcv2.destroyAllWindows()\n"
   ]
  }
 ],
 "metadata": {
  "kernelspec": {
   "display_name": "base",
   "language": "python",
   "name": "python3"
  },
  "language_info": {
   "codemirror_mode": {
    "name": "ipython",
    "version": 3
   },
   "file_extension": ".py",
   "mimetype": "text/x-python",
   "name": "python",
   "nbconvert_exporter": "python",
   "pygments_lexer": "ipython3",
   "version": "3.11.7"
  }
 },
 "nbformat": 4,
 "nbformat_minor": 2
}
